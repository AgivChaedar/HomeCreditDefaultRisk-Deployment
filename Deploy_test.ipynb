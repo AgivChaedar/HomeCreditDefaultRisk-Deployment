{
 "cells": [
  {
   "cell_type": "code",
   "execution_count": 50,
   "metadata": {},
   "outputs": [],
   "source": [
    "import numpy as np\n",
    "\n",
    "# import pandas untuk data (csv) manipulation\n",
    "import pandas as pd\n",
    "\n",
    "# untuk plotting\n",
    "import matplotlib.pyplot as plt\n",
    "import matplotlib as mpl\n",
    "\n",
    "# tambahan untuk plotting\n",
    "import seaborn as sns\n",
    "\n",
    "# Untuk hasil plot yg interaktif \n",
    "# import plotly.plotly as py\n",
    "import plotly.graph_objs as go\n",
    "\n",
    "\n",
    "# Tidak menampilkan peringatan error agar terlihat rapi\n",
    "import warnings\n",
    "warnings.filterwarnings(\"ignore\")\n",
    "\n",
    "# display plots\n",
    "%matplotlib inline"
   ]
  },
  {
   "cell_type": "code",
   "execution_count": 51,
   "metadata": {},
   "outputs": [
    {
     "data": {
      "text/html": [
       "<div>\n",
       "<style scoped>\n",
       "    .dataframe tbody tr th:only-of-type {\n",
       "        vertical-align: middle;\n",
       "    }\n",
       "\n",
       "    .dataframe tbody tr th {\n",
       "        vertical-align: top;\n",
       "    }\n",
       "\n",
       "    .dataframe thead th {\n",
       "        text-align: right;\n",
       "    }\n",
       "</style>\n",
       "<table border=\"1\" class=\"dataframe\">\n",
       "  <thead>\n",
       "    <tr style=\"text-align: right;\">\n",
       "      <th></th>\n",
       "      <th>CODE_GENDER</th>\n",
       "      <th>FLAG_OWN_CAR</th>\n",
       "      <th>FLAG_OWN_REALTY</th>\n",
       "      <th>NAME_INCOME_TYPE</th>\n",
       "      <th>NAME_EDUCATION_TYPE</th>\n",
       "      <th>NAME_FAMILY_STATUS</th>\n",
       "      <th>OCCUPATION_TYPE</th>\n",
       "      <th>HOUSETYPE_MODE</th>\n",
       "      <th>CREDIT_ACTIVE</th>\n",
       "      <th>CREDIT_TYPE</th>\n",
       "      <th>NAME_CONTRACT_TYPE</th>\n",
       "      <th>NAME_CONTRACT_STATUS</th>\n",
       "      <th>CNT_INSTALMENT</th>\n",
       "      <th>AGE_YEARS</th>\n",
       "      <th>AMT_INCOME_TOTAL</th>\n",
       "      <th>YEARS_ENTRY_PAYMENT</th>\n",
       "      <th>EMPLOYED_TO_AGE_RATIO</th>\n",
       "      <th>AMT_ANNUITY</th>\n",
       "      <th>NUM_INSTALMENT_NUMBER</th>\n",
       "      <th>YEARS_EMPLOYED</th>\n",
       "      <th>AMT_CREDIT</th>\n",
       "      <th>EXT_SOURCE_MEAN</th>\n",
       "      <th>TARGET</th>\n",
       "    </tr>\n",
       "  </thead>\n",
       "  <tbody>\n",
       "    <tr>\n",
       "      <th>0</th>\n",
       "      <td>M</td>\n",
       "      <td>N</td>\n",
       "      <td>Y</td>\n",
       "      <td>Working</td>\n",
       "      <td>Secondary / secondary special</td>\n",
       "      <td>Single / not married</td>\n",
       "      <td>Sales staff</td>\n",
       "      <td>block of flats</td>\n",
       "      <td>Closed</td>\n",
       "      <td>Consumer credit</td>\n",
       "      <td>Cash loansConsumer loans</td>\n",
       "      <td>ApprovedActiveActive</td>\n",
       "      <td>12.0</td>\n",
       "      <td>28.345205</td>\n",
       "      <td>135000.0</td>\n",
       "      <td>0.139726</td>\n",
       "      <td>0.061956</td>\n",
       "      <td>28398.735</td>\n",
       "      <td>19</td>\n",
       "      <td>1.756164</td>\n",
       "      <td>480703.5</td>\n",
       "      <td>0.273696</td>\n",
       "      <td>1</td>\n",
       "    </tr>\n",
       "    <tr>\n",
       "      <th>1</th>\n",
       "      <td>F</td>\n",
       "      <td>N</td>\n",
       "      <td>N</td>\n",
       "      <td>Working</td>\n",
       "      <td>Secondary / secondary special</td>\n",
       "      <td>Married</td>\n",
       "      <td>High skill tech staff</td>\n",
       "      <td>block of flats</td>\n",
       "      <td>Closed</td>\n",
       "      <td>Consumer credit</td>\n",
       "      <td>Cash loansConsumer loans</td>\n",
       "      <td>ApprovedActiveActive</td>\n",
       "      <td>10.0</td>\n",
       "      <td>34.506849</td>\n",
       "      <td>135000.0</td>\n",
       "      <td>0.189041</td>\n",
       "      <td>0.116792</td>\n",
       "      <td>30596.940</td>\n",
       "      <td>9</td>\n",
       "      <td>4.030137</td>\n",
       "      <td>524718.0</td>\n",
       "      <td>0.229567</td>\n",
       "      <td>1</td>\n",
       "    </tr>\n",
       "    <tr>\n",
       "      <th>2</th>\n",
       "      <td>M</td>\n",
       "      <td>Y</td>\n",
       "      <td>Y</td>\n",
       "      <td>Working</td>\n",
       "      <td>Secondary / secondary special</td>\n",
       "      <td>Married</td>\n",
       "      <td>Drivers</td>\n",
       "      <td>block of flats</td>\n",
       "      <td>Closed</td>\n",
       "      <td>Consumer credit</td>\n",
       "      <td>Cash loansConsumer loans</td>\n",
       "      <td>ApprovedActiveActive</td>\n",
       "      <td>4.0</td>\n",
       "      <td>39.142466</td>\n",
       "      <td>247500.0</td>\n",
       "      <td>5.432877</td>\n",
       "      <td>0.336180</td>\n",
       "      <td>62235.765</td>\n",
       "      <td>7</td>\n",
       "      <td>13.158904</td>\n",
       "      <td>744889.5</td>\n",
       "      <td>0.662404</td>\n",
       "      <td>1</td>\n",
       "    </tr>\n",
       "    <tr>\n",
       "      <th>3</th>\n",
       "      <td>M</td>\n",
       "      <td>N</td>\n",
       "      <td>Y</td>\n",
       "      <td>State servant</td>\n",
       "      <td>Higher education</td>\n",
       "      <td>Married</td>\n",
       "      <td>Managers</td>\n",
       "      <td>block of flats</td>\n",
       "      <td>Closed</td>\n",
       "      <td>Credit card</td>\n",
       "      <td>Cash loansConsumer loans</td>\n",
       "      <td>ApprovedActiveActive</td>\n",
       "      <td>6.0</td>\n",
       "      <td>41.358904</td>\n",
       "      <td>247500.0</td>\n",
       "      <td>1.419178</td>\n",
       "      <td>0.076312</td>\n",
       "      <td>44904.960</td>\n",
       "      <td>23</td>\n",
       "      <td>3.156164</td>\n",
       "      <td>679792.5</td>\n",
       "      <td>0.439996</td>\n",
       "      <td>1</td>\n",
       "    </tr>\n",
       "    <tr>\n",
       "      <th>4</th>\n",
       "      <td>M</td>\n",
       "      <td>N</td>\n",
       "      <td>Y</td>\n",
       "      <td>Working</td>\n",
       "      <td>Secondary / secondary special</td>\n",
       "      <td>Married</td>\n",
       "      <td>Laborers</td>\n",
       "      <td>block of flats</td>\n",
       "      <td>Closed</td>\n",
       "      <td>Consumer credit</td>\n",
       "      <td>Cash loansConsumer loans</td>\n",
       "      <td>ApprovedActiveActive</td>\n",
       "      <td>12.0</td>\n",
       "      <td>26.887671</td>\n",
       "      <td>225000.0</td>\n",
       "      <td>0.054795</td>\n",
       "      <td>0.016711</td>\n",
       "      <td>31282.650</td>\n",
       "      <td>18</td>\n",
       "      <td>0.449315</td>\n",
       "      <td>523606.5</td>\n",
       "      <td>0.222559</td>\n",
       "      <td>1</td>\n",
       "    </tr>\n",
       "    <tr>\n",
       "      <th>...</th>\n",
       "      <td>...</td>\n",
       "      <td>...</td>\n",
       "      <td>...</td>\n",
       "      <td>...</td>\n",
       "      <td>...</td>\n",
       "      <td>...</td>\n",
       "      <td>...</td>\n",
       "      <td>...</td>\n",
       "      <td>...</td>\n",
       "      <td>...</td>\n",
       "      <td>...</td>\n",
       "      <td>...</td>\n",
       "      <td>...</td>\n",
       "      <td>...</td>\n",
       "      <td>...</td>\n",
       "      <td>...</td>\n",
       "      <td>...</td>\n",
       "      <td>...</td>\n",
       "      <td>...</td>\n",
       "      <td>...</td>\n",
       "      <td>...</td>\n",
       "      <td>...</td>\n",
       "      <td>...</td>\n",
       "    </tr>\n",
       "    <tr>\n",
       "      <th>2823</th>\n",
       "      <td>F</td>\n",
       "      <td>N</td>\n",
       "      <td>Y</td>\n",
       "      <td>Commercial associate</td>\n",
       "      <td>Secondary / secondary special</td>\n",
       "      <td>Single / not married</td>\n",
       "      <td>Sales staff</td>\n",
       "      <td>block of flats</td>\n",
       "      <td>Closed</td>\n",
       "      <td>Consumer credit</td>\n",
       "      <td>Cash loansConsumer loans</td>\n",
       "      <td>ApprovedActiveActive</td>\n",
       "      <td>8.0</td>\n",
       "      <td>43.569863</td>\n",
       "      <td>112500.0</td>\n",
       "      <td>0.419178</td>\n",
       "      <td>0.047915</td>\n",
       "      <td>17577.855</td>\n",
       "      <td>24</td>\n",
       "      <td>2.087671</td>\n",
       "      <td>266935.5</td>\n",
       "      <td>0.418595</td>\n",
       "      <td>0</td>\n",
       "    </tr>\n",
       "    <tr>\n",
       "      <th>2824</th>\n",
       "      <td>F</td>\n",
       "      <td>N</td>\n",
       "      <td>Y</td>\n",
       "      <td>Working</td>\n",
       "      <td>Secondary / secondary special</td>\n",
       "      <td>Widow</td>\n",
       "      <td>Sales staff</td>\n",
       "      <td>block of flats</td>\n",
       "      <td>Closed</td>\n",
       "      <td>Consumer credit</td>\n",
       "      <td>Cash loansConsumer loans</td>\n",
       "      <td>ApprovedCompletedActive</td>\n",
       "      <td>14.0</td>\n",
       "      <td>60.558904</td>\n",
       "      <td>292500.0</td>\n",
       "      <td>1.753425</td>\n",
       "      <td>0.167481</td>\n",
       "      <td>114163.560</td>\n",
       "      <td>21</td>\n",
       "      <td>10.142466</td>\n",
       "      <td>2157772.5</td>\n",
       "      <td>0.282015</td>\n",
       "      <td>0</td>\n",
       "    </tr>\n",
       "    <tr>\n",
       "      <th>2825</th>\n",
       "      <td>M</td>\n",
       "      <td>Y</td>\n",
       "      <td>Y</td>\n",
       "      <td>Commercial associate</td>\n",
       "      <td>Higher education</td>\n",
       "      <td>Married</td>\n",
       "      <td>Cooking staff</td>\n",
       "      <td>block of flats</td>\n",
       "      <td>Closed</td>\n",
       "      <td>Consumer credit</td>\n",
       "      <td>Cash loansConsumer loans</td>\n",
       "      <td>ApprovedActiveActive</td>\n",
       "      <td>6.0</td>\n",
       "      <td>31.545205</td>\n",
       "      <td>202500.0</td>\n",
       "      <td>0.520548</td>\n",
       "      <td>0.023102</td>\n",
       "      <td>25973.010</td>\n",
       "      <td>32</td>\n",
       "      <td>0.728767</td>\n",
       "      <td>300888.0</td>\n",
       "      <td>0.323491</td>\n",
       "      <td>0</td>\n",
       "    </tr>\n",
       "    <tr>\n",
       "      <th>2826</th>\n",
       "      <td>M</td>\n",
       "      <td>Y</td>\n",
       "      <td>Y</td>\n",
       "      <td>Working</td>\n",
       "      <td>Secondary / secondary special</td>\n",
       "      <td>Married</td>\n",
       "      <td>Sales staff</td>\n",
       "      <td>block of flats</td>\n",
       "      <td>Closed</td>\n",
       "      <td>Consumer credit</td>\n",
       "      <td>Cash loansConsumer loans</td>\n",
       "      <td>ApprovedSignedActive</td>\n",
       "      <td>6.0</td>\n",
       "      <td>26.761644</td>\n",
       "      <td>135000.0</td>\n",
       "      <td>0.032877</td>\n",
       "      <td>0.151822</td>\n",
       "      <td>33471.225</td>\n",
       "      <td>39</td>\n",
       "      <td>4.063014</td>\n",
       "      <td>311733.0</td>\n",
       "      <td>0.416407</td>\n",
       "      <td>0</td>\n",
       "    </tr>\n",
       "    <tr>\n",
       "      <th>2827</th>\n",
       "      <td>F</td>\n",
       "      <td>N</td>\n",
       "      <td>N</td>\n",
       "      <td>Working</td>\n",
       "      <td>Higher education</td>\n",
       "      <td>Married</td>\n",
       "      <td>Sales staff</td>\n",
       "      <td>block of flats</td>\n",
       "      <td>Closed</td>\n",
       "      <td>Credit card</td>\n",
       "      <td>Cash loansConsumer loans</td>\n",
       "      <td>ApprovedActiveActive</td>\n",
       "      <td>12.0</td>\n",
       "      <td>42.328767</td>\n",
       "      <td>90000.0</td>\n",
       "      <td>2.361644</td>\n",
       "      <td>0.285178</td>\n",
       "      <td>32630.805</td>\n",
       "      <td>16</td>\n",
       "      <td>12.071233</td>\n",
       "      <td>454410.0</td>\n",
       "      <td>0.591347</td>\n",
       "      <td>0</td>\n",
       "    </tr>\n",
       "  </tbody>\n",
       "</table>\n",
       "<p>2828 rows × 23 columns</p>\n",
       "</div>"
      ],
      "text/plain": [
       "     CODE_GENDER FLAG_OWN_CAR FLAG_OWN_REALTY      NAME_INCOME_TYPE  \\\n",
       "0              M            N               Y               Working   \n",
       "1              F            N               N               Working   \n",
       "2              M            Y               Y               Working   \n",
       "3              M            N               Y         State servant   \n",
       "4              M            N               Y               Working   \n",
       "...          ...          ...             ...                   ...   \n",
       "2823           F            N               Y  Commercial associate   \n",
       "2824           F            N               Y               Working   \n",
       "2825           M            Y               Y  Commercial associate   \n",
       "2826           M            Y               Y               Working   \n",
       "2827           F            N               N               Working   \n",
       "\n",
       "                NAME_EDUCATION_TYPE    NAME_FAMILY_STATUS  \\\n",
       "0     Secondary / secondary special  Single / not married   \n",
       "1     Secondary / secondary special               Married   \n",
       "2     Secondary / secondary special               Married   \n",
       "3                  Higher education               Married   \n",
       "4     Secondary / secondary special               Married   \n",
       "...                             ...                   ...   \n",
       "2823  Secondary / secondary special  Single / not married   \n",
       "2824  Secondary / secondary special                 Widow   \n",
       "2825               Higher education               Married   \n",
       "2826  Secondary / secondary special               Married   \n",
       "2827               Higher education               Married   \n",
       "\n",
       "            OCCUPATION_TYPE  HOUSETYPE_MODE CREDIT_ACTIVE      CREDIT_TYPE  \\\n",
       "0               Sales staff  block of flats        Closed  Consumer credit   \n",
       "1     High skill tech staff  block of flats        Closed  Consumer credit   \n",
       "2                   Drivers  block of flats        Closed  Consumer credit   \n",
       "3                  Managers  block of flats        Closed      Credit card   \n",
       "4                  Laborers  block of flats        Closed  Consumer credit   \n",
       "...                     ...             ...           ...              ...   \n",
       "2823            Sales staff  block of flats        Closed  Consumer credit   \n",
       "2824            Sales staff  block of flats        Closed  Consumer credit   \n",
       "2825          Cooking staff  block of flats        Closed  Consumer credit   \n",
       "2826            Sales staff  block of flats        Closed  Consumer credit   \n",
       "2827            Sales staff  block of flats        Closed      Credit card   \n",
       "\n",
       "            NAME_CONTRACT_TYPE     NAME_CONTRACT_STATUS  CNT_INSTALMENT  \\\n",
       "0     Cash loansConsumer loans     ApprovedActiveActive            12.0   \n",
       "1     Cash loansConsumer loans     ApprovedActiveActive            10.0   \n",
       "2     Cash loansConsumer loans     ApprovedActiveActive             4.0   \n",
       "3     Cash loansConsumer loans     ApprovedActiveActive             6.0   \n",
       "4     Cash loansConsumer loans     ApprovedActiveActive            12.0   \n",
       "...                        ...                      ...             ...   \n",
       "2823  Cash loansConsumer loans     ApprovedActiveActive             8.0   \n",
       "2824  Cash loansConsumer loans  ApprovedCompletedActive            14.0   \n",
       "2825  Cash loansConsumer loans     ApprovedActiveActive             6.0   \n",
       "2826  Cash loansConsumer loans     ApprovedSignedActive             6.0   \n",
       "2827  Cash loansConsumer loans     ApprovedActiveActive            12.0   \n",
       "\n",
       "      AGE_YEARS  AMT_INCOME_TOTAL  YEARS_ENTRY_PAYMENT  EMPLOYED_TO_AGE_RATIO  \\\n",
       "0     28.345205          135000.0             0.139726               0.061956   \n",
       "1     34.506849          135000.0             0.189041               0.116792   \n",
       "2     39.142466          247500.0             5.432877               0.336180   \n",
       "3     41.358904          247500.0             1.419178               0.076312   \n",
       "4     26.887671          225000.0             0.054795               0.016711   \n",
       "...         ...               ...                  ...                    ...   \n",
       "2823  43.569863          112500.0             0.419178               0.047915   \n",
       "2824  60.558904          292500.0             1.753425               0.167481   \n",
       "2825  31.545205          202500.0             0.520548               0.023102   \n",
       "2826  26.761644          135000.0             0.032877               0.151822   \n",
       "2827  42.328767           90000.0             2.361644               0.285178   \n",
       "\n",
       "      AMT_ANNUITY  NUM_INSTALMENT_NUMBER  YEARS_EMPLOYED  AMT_CREDIT  \\\n",
       "0       28398.735                     19        1.756164    480703.5   \n",
       "1       30596.940                      9        4.030137    524718.0   \n",
       "2       62235.765                      7       13.158904    744889.5   \n",
       "3       44904.960                     23        3.156164    679792.5   \n",
       "4       31282.650                     18        0.449315    523606.5   \n",
       "...           ...                    ...             ...         ...   \n",
       "2823    17577.855                     24        2.087671    266935.5   \n",
       "2824   114163.560                     21       10.142466   2157772.5   \n",
       "2825    25973.010                     32        0.728767    300888.0   \n",
       "2826    33471.225                     39        4.063014    311733.0   \n",
       "2827    32630.805                     16       12.071233    454410.0   \n",
       "\n",
       "      EXT_SOURCE_MEAN  TARGET  \n",
       "0            0.273696       1  \n",
       "1            0.229567       1  \n",
       "2            0.662404       1  \n",
       "3            0.439996       1  \n",
       "4            0.222559       1  \n",
       "...               ...     ...  \n",
       "2823         0.418595       0  \n",
       "2824         0.282015       0  \n",
       "2825         0.323491       0  \n",
       "2826         0.416407       0  \n",
       "2827         0.591347       0  \n",
       "\n",
       "[2828 rows x 23 columns]"
      ]
     },
     "execution_count": 51,
     "metadata": {},
     "output_type": "execute_result"
    }
   ],
   "source": [
    "pd.set_option('display.max_columns', None)\n",
    "data = pd.read_csv(\"data_test.csv\")\n",
    "data"
   ]
  },
  {
   "cell_type": "code",
   "execution_count": 89,
   "metadata": {},
   "outputs": [
    {
     "data": {
      "text/plain": [
       "count    2828.000000\n",
       "mean        0.461626\n",
       "std         0.126111\n",
       "min         0.057212\n",
       "25%         0.381399\n",
       "50%         0.461138\n",
       "75%         0.548689\n",
       "max         0.815161\n",
       "Name: EXT_SOURCE_MEAN, dtype: float64"
      ]
     },
     "execution_count": 89,
     "metadata": {},
     "output_type": "execute_result"
    }
   ],
   "source": [
    "data.EXT_SOURCE_MEAN.describe().T"
   ]
  },
  {
   "cell_type": "code",
   "execution_count": 53,
   "metadata": {},
   "outputs": [
    {
     "data": {
      "text/plain": [
       "CODE_GENDER              0\n",
       "FLAG_OWN_CAR             0\n",
       "FLAG_OWN_REALTY          0\n",
       "NAME_INCOME_TYPE         0\n",
       "NAME_EDUCATION_TYPE      0\n",
       "NAME_FAMILY_STATUS       0\n",
       "OCCUPATION_TYPE          0\n",
       "HOUSETYPE_MODE           0\n",
       "CREDIT_ACTIVE            0\n",
       "CREDIT_TYPE              0\n",
       "NAME_CONTRACT_TYPE       0\n",
       "NAME_CONTRACT_STATUS     0\n",
       "CNT_INSTALMENT           0\n",
       "AGE_YEARS                0\n",
       "AMT_INCOME_TOTAL         0\n",
       "YEARS_ENTRY_PAYMENT      0\n",
       "EMPLOYED_TO_AGE_RATIO    0\n",
       "AMT_ANNUITY              0\n",
       "NUM_INSTALMENT_NUMBER    0\n",
       "YEARS_EMPLOYED           0\n",
       "AMT_CREDIT               0\n",
       "EXT_SOURCE_MEAN          0\n",
       "TARGET                   0\n",
       "dtype: int64"
      ]
     },
     "execution_count": 53,
     "metadata": {},
     "output_type": "execute_result"
    }
   ],
   "source": [
    "data.isna().sum()"
   ]
  },
  {
   "cell_type": "code",
   "execution_count": 54,
   "metadata": {},
   "outputs": [
    {
     "data": {
      "text/plain": [
       "1    1414\n",
       "0    1414\n",
       "Name: TARGET, dtype: int64"
      ]
     },
     "execution_count": 54,
     "metadata": {},
     "output_type": "execute_result"
    }
   ],
   "source": [
    "data.TARGET.value_counts()"
   ]
  },
  {
   "cell_type": "code",
   "execution_count": 55,
   "metadata": {},
   "outputs": [
    {
     "name": "stdout",
     "output_type": "stream",
     "text": [
      "Columns with object Dtypes are =\n",
      " ['CODE_GENDER', 'FLAG_OWN_CAR', 'FLAG_OWN_REALTY', 'NAME_INCOME_TYPE', 'NAME_EDUCATION_TYPE', 'NAME_FAMILY_STATUS', 'OCCUPATION_TYPE', 'HOUSETYPE_MODE', 'CREDIT_ACTIVE', 'CREDIT_TYPE', 'NAME_CONTRACT_TYPE', 'NAME_CONTRACT_STATUS']\n",
      "\n",
      "Columns with numerical Dtypes are =\n",
      " ['CNT_INSTALMENT', 'AGE_YEARS', 'AMT_INCOME_TOTAL', 'YEARS_ENTRY_PAYMENT', 'EMPLOYED_TO_AGE_RATIO', 'AMT_ANNUITY', 'NUM_INSTALMENT_NUMBER', 'YEARS_EMPLOYED', 'AMT_CREDIT', 'EXT_SOURCE_MEAN', 'TARGET']\n"
     ]
    }
   ],
   "source": [
    "obj_col = data.select_dtypes(['object']).columns.to_list()\n",
    "numeric_col = data.select_dtypes(exclude='object').columns.to_list()\n",
    "print(\"Columns with object Dtypes are =\\n\", obj_col)\n",
    "print('')\n",
    "print(\"Columns with numerical Dtypes are =\\n\", numeric_col)"
   ]
  },
  {
   "cell_type": "code",
   "execution_count": 56,
   "metadata": {},
   "outputs": [
    {
     "data": {
      "text/plain": [
       "F    1853\n",
       "M     975\n",
       "Name: CODE_GENDER, dtype: int64"
      ]
     },
     "execution_count": 56,
     "metadata": {},
     "output_type": "execute_result"
    }
   ],
   "source": [
    "data.CODE_GENDER.value_counts()"
   ]
  },
  {
   "cell_type": "code",
   "execution_count": 57,
   "metadata": {},
   "outputs": [
    {
     "data": {
      "text/plain": [
       "N    1939\n",
       "Y     889\n",
       "Name: FLAG_OWN_CAR, dtype: int64"
      ]
     },
     "execution_count": 57,
     "metadata": {},
     "output_type": "execute_result"
    }
   ],
   "source": [
    "data.FLAG_OWN_CAR.value_counts()"
   ]
  },
  {
   "cell_type": "code",
   "execution_count": 58,
   "metadata": {},
   "outputs": [
    {
     "data": {
      "text/plain": [
       "Y    1984\n",
       "N     844\n",
       "Name: FLAG_OWN_REALTY, dtype: int64"
      ]
     },
     "execution_count": 58,
     "metadata": {},
     "output_type": "execute_result"
    }
   ],
   "source": [
    "data.FLAG_OWN_REALTY.value_counts()"
   ]
  },
  {
   "cell_type": "code",
   "execution_count": 59,
   "metadata": {},
   "outputs": [
    {
     "data": {
      "text/plain": [
       "Working                 1830\n",
       "Commercial associate     742\n",
       "State servant            256\n",
       "Name: NAME_INCOME_TYPE, dtype: int64"
      ]
     },
     "execution_count": 59,
     "metadata": {},
     "output_type": "execute_result"
    }
   ],
   "source": [
    "data.NAME_INCOME_TYPE.value_counts()"
   ]
  },
  {
   "cell_type": "code",
   "execution_count": 60,
   "metadata": {},
   "outputs": [
    {
     "data": {
      "text/plain": [
       "Secondary / secondary special    1926\n",
       "Higher education                  762\n",
       "Incomplete higher                  93\n",
       "Lower secondary                    46\n",
       "Academic degree                     1\n",
       "Name: NAME_EDUCATION_TYPE, dtype: int64"
      ]
     },
     "execution_count": 60,
     "metadata": {},
     "output_type": "execute_result"
    }
   ],
   "source": [
    "data.NAME_EDUCATION_TYPE.value_counts()"
   ]
  },
  {
   "cell_type": "code",
   "execution_count": 61,
   "metadata": {},
   "outputs": [
    {
     "data": {
      "text/plain": [
       "Married                 1960\n",
       "Single / not married     372\n",
       "Civil marriage           251\n",
       "Separated                208\n",
       "Widow                     37\n",
       "Name: NAME_FAMILY_STATUS, dtype: int64"
      ]
     },
     "execution_count": 61,
     "metadata": {},
     "output_type": "execute_result"
    }
   ],
   "source": [
    "data.NAME_FAMILY_STATUS.value_counts()"
   ]
  },
  {
   "cell_type": "code",
   "execution_count": 62,
   "metadata": {},
   "outputs": [
    {
     "data": {
      "text/plain": [
       "Laborers                 747\n",
       "Sales staff              487\n",
       "Core staff               339\n",
       "Managers                 328\n",
       "Drivers                  184\n",
       "High skill tech staff    138\n",
       "Accountants              124\n",
       "Medicine staff            99\n",
       "Security staff            98\n",
       "Cleaning staff            78\n",
       "Cooking staff             64\n",
       "Private service staff     33\n",
       "Waiters/barmen staff      32\n",
       "Secretaries               24\n",
       "Low-skill Laborers        23\n",
       "Realty agents             18\n",
       "HR staff                   7\n",
       "IT staff                   5\n",
       "Name: OCCUPATION_TYPE, dtype: int64"
      ]
     },
     "execution_count": 62,
     "metadata": {},
     "output_type": "execute_result"
    }
   ],
   "source": [
    "data.OCCUPATION_TYPE.value_counts()"
   ]
  },
  {
   "cell_type": "code",
   "execution_count": 63,
   "metadata": {},
   "outputs": [
    {
     "data": {
      "text/plain": [
       "block of flats      2781\n",
       "specific housing      40\n",
       "terraced house         7\n",
       "Name: HOUSETYPE_MODE, dtype: int64"
      ]
     },
     "execution_count": 63,
     "metadata": {},
     "output_type": "execute_result"
    }
   ],
   "source": [
    "data.HOUSETYPE_MODE.value_counts()"
   ]
  },
  {
   "cell_type": "code",
   "execution_count": 64,
   "metadata": {},
   "outputs": [
    {
     "data": {
      "text/plain": [
       "Closed    2821\n",
       "Sold         7\n",
       "Name: CREDIT_ACTIVE, dtype: int64"
      ]
     },
     "execution_count": 64,
     "metadata": {},
     "output_type": "execute_result"
    }
   ],
   "source": [
    "data.CREDIT_ACTIVE.value_counts()"
   ]
  },
  {
   "cell_type": "code",
   "execution_count": 65,
   "metadata": {},
   "outputs": [
    {
     "data": {
      "text/plain": [
       "Consumer credit         2521\n",
       "Credit card              248\n",
       "Car loan                  28\n",
       "Microloan                 23\n",
       "Mortgage                   7\n",
       "Unknown type of loan       1\n",
       "Name: CREDIT_TYPE, dtype: int64"
      ]
     },
     "execution_count": 65,
     "metadata": {},
     "output_type": "execute_result"
    }
   ],
   "source": [
    "data.CREDIT_TYPE.value_counts()"
   ]
  },
  {
   "cell_type": "code",
   "execution_count": 66,
   "metadata": {},
   "outputs": [
    {
     "data": {
      "text/plain": [
       "Cash loansConsumer loans         2709\n",
       "Cash loansCash loans              117\n",
       "Revolving loansConsumer loans       2\n",
       "Name: NAME_CONTRACT_TYPE, dtype: int64"
      ]
     },
     "execution_count": 66,
     "metadata": {},
     "output_type": "execute_result"
    }
   ],
   "source": [
    "data.NAME_CONTRACT_TYPE.value_counts()"
   ]
  },
  {
   "cell_type": "code",
   "execution_count": 67,
   "metadata": {},
   "outputs": [
    {
     "data": {
      "text/plain": [
       "ApprovedActiveActive                   2520\n",
       "ApprovedCompletedActive                 228\n",
       "ApprovedActiveCompleted                  42\n",
       "ApprovedSignedActive                     17\n",
       "ApprovedApprovedActive                    9\n",
       "ApprovedCompletedCompleted                9\n",
       "ApprovedReturned to the storeActive       2\n",
       "ApprovedActiveSigned                      1\n",
       "Name: NAME_CONTRACT_STATUS, dtype: int64"
      ]
     },
     "execution_count": 67,
     "metadata": {},
     "output_type": "execute_result"
    }
   ],
   "source": [
    "data.NAME_CONTRACT_STATUS.value_counts()"
   ]
  },
  {
   "cell_type": "code",
   "execution_count": 68,
   "metadata": {},
   "outputs": [
    {
     "data": {
      "text/plain": [
       "CODE_GENDER              0\n",
       "FLAG_OWN_CAR             0\n",
       "FLAG_OWN_REALTY          0\n",
       "NAME_INCOME_TYPE         0\n",
       "NAME_EDUCATION_TYPE      0\n",
       "NAME_FAMILY_STATUS       0\n",
       "OCCUPATION_TYPE          0\n",
       "HOUSETYPE_MODE           0\n",
       "CREDIT_ACTIVE            0\n",
       "CREDIT_TYPE              0\n",
       "NAME_CONTRACT_TYPE       0\n",
       "NAME_CONTRACT_STATUS     0\n",
       "CNT_INSTALMENT           0\n",
       "AGE_YEARS                0\n",
       "AMT_INCOME_TOTAL         0\n",
       "YEARS_ENTRY_PAYMENT      0\n",
       "EMPLOYED_TO_AGE_RATIO    0\n",
       "AMT_ANNUITY              0\n",
       "NUM_INSTALMENT_NUMBER    0\n",
       "YEARS_EMPLOYED           0\n",
       "AMT_CREDIT               0\n",
       "EXT_SOURCE_MEAN          0\n",
       "TARGET                   0\n",
       "dtype: int64"
      ]
     },
     "execution_count": 68,
     "metadata": {},
     "output_type": "execute_result"
    }
   ],
   "source": [
    "data.isna().sum()"
   ]
  },
  {
   "cell_type": "code",
   "execution_count": 69,
   "metadata": {},
   "outputs": [],
   "source": [
    "# data.dropna(how ='any', inplace=True)"
   ]
  },
  {
   "cell_type": "code",
   "execution_count": 70,
   "metadata": {},
   "outputs": [],
   "source": [
    "data['CODE_GENDER'] = data['CODE_GENDER'].map({'M':0, 'F':1})\n",
    "data['FLAG_OWN_CAR'] = data['FLAG_OWN_CAR'].map({'N':0, 'Y':1})\n",
    "data['FLAG_OWN_REALTY']=data['FLAG_OWN_REALTY'].map({'N':0, 'Y':1})\n",
    "data['NAME_INCOME_TYPE'] = data['NAME_INCOME_TYPE'].map({'Working':0, 'Commercial associate':1, 'State servant':2})\n",
    "data['NAME_EDUCATION_TYPE'] = data['NAME_EDUCATION_TYPE'].map({'Secondary / secondary special':0, 'Higher education':1, 'Incomplete higher':2, 'Lower secondary':3, 'Academic degree':4})\n",
    "data['NAME_FAMILY_STATUS'] = data['NAME_FAMILY_STATUS'].map({'Married':0, 'Single / not married':1, 'Civil marriage':2, 'Separated':3, 'Widow':4})\n",
    "data['OCCUPATION_TYPE'] = data['OCCUPATION_TYPE'].map({'Laborers':0, 'Sales staff':1, 'Core staff':2, 'Managers':3,\n",
    "                                                       'Drivers':4, 'High skill tech staff':5, 'Accountants':6,\n",
    "                                                       'Medicine staff':7, 'Security staff':8, 'Cleaning staff':9,\n",
    "                                                       'Cooking staff':10, 'Private service staff':11, 'Waiters/barmen staff':12,\n",
    "                                                       'Secretaries':13, 'Low-skill Laborers':14,\n",
    "                                                       'Realty agents':15, 'HR staff':16, 'IT staff':17})\n",
    "data['HOUSETYPE_MODE'] = data['HOUSETYPE_MODE'].map({'block of flats':0, 'specific housing':1, 'terraced house':2})\n",
    "data['CREDIT_ACTIVE'] = data['CREDIT_ACTIVE'].map({'Closed':0, 'Sold':1})\n",
    "data['CREDIT_TYPE'] = data['CREDIT_TYPE'].map({'Consumer credit':0, 'Credit card':1, 'Car loan':2,\n",
    "                                               'Microloan':3, 'Mortgage':4, 'Unknown type of loan':5})\n",
    "data['NAME_CONTRACT_TYPE'] = data['NAME_CONTRACT_TYPE'].map({'Cash loansConsumer loans':0, 'Cash loansCash loans':1, 'Revolving loansConsumer loans':2})\n",
    "data['NAME_CONTRACT_STATUS'] = data['NAME_CONTRACT_STATUS'].map({'ApprovedActiveActive':0, 'ApprovedCompletedActive':1, 'ApprovedActiveCompleted':2, 'ApprovedSignedActive':3,\n",
    "                                                                 'ApprovedApprovedActive':4,'ApprovedCompletedCompleted':5, 'ApprovedReturned to the storeActive':6, 'ApprovedActiveSigned':7})"
   ]
  },
  {
   "cell_type": "code",
   "execution_count": 72,
   "metadata": {},
   "outputs": [],
   "source": [
    "X = data.loc[:, data.columns != 'TARGET']\n",
    "y = data['TARGET']"
   ]
  },
  {
   "cell_type": "code",
   "execution_count": 73,
   "metadata": {},
   "outputs": [],
   "source": [
    "from sklearn.model_selection import train_test_split\n",
    "X_train, X_test, y_train, y_test = train_test_split(X, y, test_size=0.2,\n",
    "                                                    random_state=1)"
   ]
  },
  {
   "cell_type": "code",
   "execution_count": 74,
   "metadata": {},
   "outputs": [],
   "source": [
    "from sklearn.preprocessing import StandardScaler\n",
    "sc = StandardScaler()\n",
    "\n",
    "X_train = sc.fit_transform(X_train)\n",
    "X_test = sc.transform(X_test)"
   ]
  },
  {
   "cell_type": "code",
   "execution_count": 75,
   "metadata": {},
   "outputs": [],
   "source": [
    "from sklearn.ensemble import RandomForestClassifier\n",
    "\n",
    "rf = RandomForestClassifier(random_state=210, n_jobs=-1, max_depth=10,\n",
    "                                       n_estimators=100, oob_score=True, verbose=1)"
   ]
  },
  {
   "cell_type": "code",
   "execution_count": 76,
   "metadata": {},
   "outputs": [],
   "source": [
    "#Create one variable (params) to deposit whatever we will try to do with the model\n",
    "\n",
    "params = {\n",
    "    'max_depth': [2,3,5,10,15,19,20,30],\n",
    "    'min_samples_leaf': [5,10,20,50,100],\n",
    "    'min_samples_split': [5,10,20,50,100],\n",
    "    'n_estimators': [10,25,30,50,100]\n",
    "}"
   ]
  },
  {
   "cell_type": "code",
   "execution_count": 77,
   "metadata": {},
   "outputs": [
    {
     "name": "stdout",
     "output_type": "stream",
     "text": [
      "Fitting 3 folds for each of 1000 candidates, totalling 3000 fits\n"
     ]
    },
    {
     "name": "stderr",
     "output_type": "stream",
     "text": [
      "[Parallel(n_jobs=-1)]: Using backend ThreadingBackend with 12 concurrent workers.\n",
      "[Parallel(n_jobs=-1)]: Done  26 tasks      | elapsed:    0.0s\n",
      "[Parallel(n_jobs=-1)]: Done 100 out of 100 | elapsed:    0.1s finished\n"
     ]
    },
    {
     "data": {
      "text/html": [
       "<style>#sk-container-id-1 {color: black;background-color: white;}#sk-container-id-1 pre{padding: 0;}#sk-container-id-1 div.sk-toggleable {background-color: white;}#sk-container-id-1 label.sk-toggleable__label {cursor: pointer;display: block;width: 100%;margin-bottom: 0;padding: 0.3em;box-sizing: border-box;text-align: center;}#sk-container-id-1 label.sk-toggleable__label-arrow:before {content: \"▸\";float: left;margin-right: 0.25em;color: #696969;}#sk-container-id-1 label.sk-toggleable__label-arrow:hover:before {color: black;}#sk-container-id-1 div.sk-estimator:hover label.sk-toggleable__label-arrow:before {color: black;}#sk-container-id-1 div.sk-toggleable__content {max-height: 0;max-width: 0;overflow: hidden;text-align: left;background-color: #f0f8ff;}#sk-container-id-1 div.sk-toggleable__content pre {margin: 0.2em;color: black;border-radius: 0.25em;background-color: #f0f8ff;}#sk-container-id-1 input.sk-toggleable__control:checked~div.sk-toggleable__content {max-height: 200px;max-width: 100%;overflow: auto;}#sk-container-id-1 input.sk-toggleable__control:checked~label.sk-toggleable__label-arrow:before {content: \"▾\";}#sk-container-id-1 div.sk-estimator input.sk-toggleable__control:checked~label.sk-toggleable__label {background-color: #d4ebff;}#sk-container-id-1 div.sk-label input.sk-toggleable__control:checked~label.sk-toggleable__label {background-color: #d4ebff;}#sk-container-id-1 input.sk-hidden--visually {border: 0;clip: rect(1px 1px 1px 1px);clip: rect(1px, 1px, 1px, 1px);height: 1px;margin: -1px;overflow: hidden;padding: 0;position: absolute;width: 1px;}#sk-container-id-1 div.sk-estimator {font-family: monospace;background-color: #f0f8ff;border: 1px dotted black;border-radius: 0.25em;box-sizing: border-box;margin-bottom: 0.5em;}#sk-container-id-1 div.sk-estimator:hover {background-color: #d4ebff;}#sk-container-id-1 div.sk-parallel-item::after {content: \"\";width: 100%;border-bottom: 1px solid gray;flex-grow: 1;}#sk-container-id-1 div.sk-label:hover label.sk-toggleable__label {background-color: #d4ebff;}#sk-container-id-1 div.sk-serial::before {content: \"\";position: absolute;border-left: 1px solid gray;box-sizing: border-box;top: 0;bottom: 0;left: 50%;z-index: 0;}#sk-container-id-1 div.sk-serial {display: flex;flex-direction: column;align-items: center;background-color: white;padding-right: 0.2em;padding-left: 0.2em;position: relative;}#sk-container-id-1 div.sk-item {position: relative;z-index: 1;}#sk-container-id-1 div.sk-parallel {display: flex;align-items: stretch;justify-content: center;background-color: white;position: relative;}#sk-container-id-1 div.sk-item::before, #sk-container-id-1 div.sk-parallel-item::before {content: \"\";position: absolute;border-left: 1px solid gray;box-sizing: border-box;top: 0;bottom: 0;left: 50%;z-index: -1;}#sk-container-id-1 div.sk-parallel-item {display: flex;flex-direction: column;z-index: 1;position: relative;background-color: white;}#sk-container-id-1 div.sk-parallel-item:first-child::after {align-self: flex-end;width: 50%;}#sk-container-id-1 div.sk-parallel-item:last-child::after {align-self: flex-start;width: 50%;}#sk-container-id-1 div.sk-parallel-item:only-child::after {width: 0;}#sk-container-id-1 div.sk-dashed-wrapped {border: 1px dashed gray;margin: 0 0.4em 0.5em 0.4em;box-sizing: border-box;padding-bottom: 0.4em;background-color: white;}#sk-container-id-1 div.sk-label label {font-family: monospace;font-weight: bold;display: inline-block;line-height: 1.2em;}#sk-container-id-1 div.sk-label-container {text-align: center;}#sk-container-id-1 div.sk-container {/* jupyter's `normalize.less` sets `[hidden] { display: none; }` but bootstrap.min.css set `[hidden] { display: none !important; }` so we also need the `!important` here to be able to override the default hidden behavior on the sphinx rendered scikit-learn.org. See: https://github.com/scikit-learn/scikit-learn/issues/21755 */display: inline-block !important;position: relative;}#sk-container-id-1 div.sk-text-repr-fallback {display: none;}</style><div id=\"sk-container-id-1\" class=\"sk-top-container\"><div class=\"sk-text-repr-fallback\"><pre>GridSearchCV(cv=3,\n",
       "             estimator=RandomForestClassifier(max_depth=10, n_jobs=-1,\n",
       "                                              oob_score=True, random_state=210,\n",
       "                                              verbose=1),\n",
       "             n_jobs=-1,\n",
       "             param_grid={&#x27;max_depth&#x27;: [2, 3, 5, 10, 15, 19, 20, 30],\n",
       "                         &#x27;min_samples_leaf&#x27;: [5, 10, 20, 50, 100],\n",
       "                         &#x27;min_samples_split&#x27;: [5, 10, 20, 50, 100],\n",
       "                         &#x27;n_estimators&#x27;: [10, 25, 30, 50, 100]},\n",
       "             scoring=&#x27;accuracy&#x27;, verbose=1)</pre><b>In a Jupyter environment, please rerun this cell to show the HTML representation or trust the notebook. <br />On GitHub, the HTML representation is unable to render, please try loading this page with nbviewer.org.</b></div><div class=\"sk-container\" hidden><div class=\"sk-item sk-dashed-wrapped\"><div class=\"sk-label-container\"><div class=\"sk-label sk-toggleable\"><input class=\"sk-toggleable__control sk-hidden--visually\" id=\"sk-estimator-id-1\" type=\"checkbox\" ><label for=\"sk-estimator-id-1\" class=\"sk-toggleable__label sk-toggleable__label-arrow\">GridSearchCV</label><div class=\"sk-toggleable__content\"><pre>GridSearchCV(cv=3,\n",
       "             estimator=RandomForestClassifier(max_depth=10, n_jobs=-1,\n",
       "                                              oob_score=True, random_state=210,\n",
       "                                              verbose=1),\n",
       "             n_jobs=-1,\n",
       "             param_grid={&#x27;max_depth&#x27;: [2, 3, 5, 10, 15, 19, 20, 30],\n",
       "                         &#x27;min_samples_leaf&#x27;: [5, 10, 20, 50, 100],\n",
       "                         &#x27;min_samples_split&#x27;: [5, 10, 20, 50, 100],\n",
       "                         &#x27;n_estimators&#x27;: [10, 25, 30, 50, 100]},\n",
       "             scoring=&#x27;accuracy&#x27;, verbose=1)</pre></div></div></div><div class=\"sk-parallel\"><div class=\"sk-parallel-item\"><div class=\"sk-item\"><div class=\"sk-label-container\"><div class=\"sk-label sk-toggleable\"><input class=\"sk-toggleable__control sk-hidden--visually\" id=\"sk-estimator-id-2\" type=\"checkbox\" ><label for=\"sk-estimator-id-2\" class=\"sk-toggleable__label sk-toggleable__label-arrow\">estimator: RandomForestClassifier</label><div class=\"sk-toggleable__content\"><pre>RandomForestClassifier(max_depth=10, n_jobs=-1, oob_score=True,\n",
       "                       random_state=210, verbose=1)</pre></div></div></div><div class=\"sk-serial\"><div class=\"sk-item\"><div class=\"sk-estimator sk-toggleable\"><input class=\"sk-toggleable__control sk-hidden--visually\" id=\"sk-estimator-id-3\" type=\"checkbox\" ><label for=\"sk-estimator-id-3\" class=\"sk-toggleable__label sk-toggleable__label-arrow\">RandomForestClassifier</label><div class=\"sk-toggleable__content\"><pre>RandomForestClassifier(max_depth=10, n_jobs=-1, oob_score=True,\n",
       "                       random_state=210, verbose=1)</pre></div></div></div></div></div></div></div></div></div></div>"
      ],
      "text/plain": [
       "GridSearchCV(cv=3,\n",
       "             estimator=RandomForestClassifier(max_depth=10, n_jobs=-1,\n",
       "                                              oob_score=True, random_state=210,\n",
       "                                              verbose=1),\n",
       "             n_jobs=-1,\n",
       "             param_grid={'max_depth': [2, 3, 5, 10, 15, 19, 20, 30],\n",
       "                         'min_samples_leaf': [5, 10, 20, 50, 100],\n",
       "                         'min_samples_split': [5, 10, 20, 50, 100],\n",
       "                         'n_estimators': [10, 25, 30, 50, 100]},\n",
       "             scoring='accuracy', verbose=1)"
      ]
     },
     "execution_count": 77,
     "metadata": {},
     "output_type": "execute_result"
    }
   ],
   "source": [
    "from sklearn.model_selection import GridSearchCV\n",
    "\n",
    "# Instantiate the grid search model\n",
    "grid_search = GridSearchCV(estimator=rf,\n",
    "                           param_grid=params,\n",
    "                           cv = 3,\n",
    "                           n_jobs=-1, verbose=1, scoring=\"accuracy\")\n",
    "\n",
    "grid_search.fit(X_train, y_train)"
   ]
  },
  {
   "cell_type": "code",
   "execution_count": 78,
   "metadata": {},
   "outputs": [
    {
     "data": {
      "text/plain": [
       "0.9341290893015031"
      ]
     },
     "execution_count": 78,
     "metadata": {},
     "output_type": "execute_result"
    }
   ],
   "source": [
    "# To see best_score\n",
    "grid_search.best_score_"
   ]
  },
  {
   "cell_type": "code",
   "execution_count": 80,
   "metadata": {},
   "outputs": [
    {
     "name": "stderr",
     "output_type": "stream",
     "text": [
      "[Parallel(n_jobs=12)]: Using backend ThreadingBackend with 12 concurrent workers.\n",
      "[Parallel(n_jobs=12)]: Done  26 tasks      | elapsed:    0.0s\n",
      "[Parallel(n_jobs=12)]: Done 100 out of 100 | elapsed:    0.0s finished\n"
     ]
    }
   ],
   "source": [
    "rf_best = grid_search.best_estimator_\n",
    "y_rf_after = rf_best.predict(X_test)"
   ]
  },
  {
   "cell_type": "code",
   "execution_count": 81,
   "metadata": {},
   "outputs": [
    {
     "name": "stdout",
     "output_type": "stream",
     "text": [
      "Random Forest dengan Hyperparamater Tuning : \n",
      " 0.9770318021201413\n"
     ]
    }
   ],
   "source": [
    "from sklearn.metrics import accuracy_score\n",
    "print(\"Random Forest dengan Hyperparamater Tuning : \\n\", accuracy_score(y_test, y_rf_after))"
   ]
  },
  {
   "cell_type": "code",
   "execution_count": 83,
   "metadata": {},
   "outputs": [
    {
     "name": "stdout",
     "output_type": "stream",
     "text": [
      "Random Forest dengan Hyperparameter Tuning : \n",
      "\n",
      "               precision    recall  f1-score   support\n",
      "\n",
      "           0       1.00      0.95      0.98       276\n",
      "           1       0.96      1.00      0.98       290\n",
      "\n",
      "    accuracy                           0.98       566\n",
      "   macro avg       0.98      0.98      0.98       566\n",
      "weighted avg       0.98      0.98      0.98       566\n",
      "\n"
     ]
    }
   ],
   "source": [
    "from sklearn.metrics import classification_report\n",
    "print(\"Random Forest dengan Hyperparameter Tuning : \\n\\n\", classification_report(y_test, y_rf_after))"
   ]
  },
  {
   "cell_type": "code",
   "execution_count": 84,
   "metadata": {},
   "outputs": [
    {
     "name": "stdout",
     "output_type": "stream",
     "text": [
      "Random Forest dengan Hyperparameter Tuning : 0.9764492753623188\n"
     ]
    }
   ],
   "source": [
    "from sklearn.metrics import roc_curve, auc\n",
    "fpr, tpr, thresholds = roc_curve(y_test, y_rf_after, pos_label=1) # pos_label: positive label\n",
    "print(\"Random Forest dengan Hyperparameter Tuning :\", auc(fpr, tpr))"
   ]
  },
  {
   "cell_type": "code",
   "execution_count": 86,
   "metadata": {},
   "outputs": [],
   "source": [
    "# saving the model \n",
    "import pickle \n",
    "pickle_out = open(\"classifier.pkl\", mode = \"wb\") \n",
    "pickle.dump(grid_search, pickle_out) \n",
    "pickle_out.close()"
   ]
  },
  {
   "cell_type": "code",
   "execution_count": null,
   "metadata": {},
   "outputs": [],
   "source": []
  },
  {
   "cell_type": "code",
   "execution_count": null,
   "metadata": {},
   "outputs": [],
   "source": []
  }
 ],
 "metadata": {
  "kernelspec": {
   "display_name": "Python 3.9.1 64-bit",
   "language": "python",
   "name": "python3"
  },
  "language_info": {
   "codemirror_mode": {
    "name": "ipython",
    "version": 3
   },
   "file_extension": ".py",
   "mimetype": "text/x-python",
   "name": "python",
   "nbconvert_exporter": "python",
   "pygments_lexer": "ipython3",
   "version": "3.9.1"
  },
  "vscode": {
   "interpreter": {
    "hash": "3ba2b54a7593e8efd3c95cfd9f2bc2b64ca31b9dab6caa8b01c049915b8eb63e"
   }
  }
 },
 "nbformat": 4,
 "nbformat_minor": 4
}
